{
 "cells": [
  {
   "cell_type": "code",
   "execution_count": 3,
   "id": "be031a4d",
   "metadata": {},
   "outputs": [
    {
     "name": "stdout",
     "output_type": "stream",
     "text": [
      "content=\"Of course. Here's one for you:\\n\\n---\\n\\n**Why is learning LangChain like assembling IKEA furniture?**\\n\\nBecause the documentation shows you how to build a simple, elegant chair, but you end up with a wobbly monstrosity, six extra screws, and you've somehow chained your cat to the LLM.\" additional_kwargs={} response_metadata={'prompt_feedback': {'block_reason': 0, 'safety_ratings': []}, 'finish_reason': 'STOP', 'safety_ratings': []} id='run--14a0534d-fae0-47ec-8657-d67db49e279b-0' usage_metadata={'input_tokens': 14, 'output_tokens': 68, 'total_tokens': 1640, 'input_token_details': {'cache_read': 0}}\n"
     ]
    }
   ],
   "source": [
    "from langchain_google_genai import ChatGoogleGenerativeAI\n",
    "from dotenv import load_dotenv\n",
    "\n",
    "load_dotenv()\n",
    "\n",
    "model = ChatGoogleGenerativeAI(model=\"gemini-2.5-pro\", temperature=0.9) # 'temperature' controls the randomness of the model's output; higher values make responses more creative.\n",
    "\n",
    "\n",
    "result = model.invoke(\"Hey gemini give me a joke a sarcastic one for learning langchain\")\n",
    "\n",
    "print(result)"
   ]
  },
  {
   "cell_type": "markdown",
   "id": "1aa5e65a",
   "metadata": {},
   "source": [
    "# Temperature"
   ]
  },
  {
   "cell_type": "markdown",
   "id": "60b063a7",
   "metadata": {},
   "source": [
    "![Alt text](../tempereature.jpg)"
   ]
  },
  {
   "cell_type": "code",
   "execution_count": null,
   "id": "ffbf2150",
   "metadata": {},
   "outputs": [],
   "source": []
  }
 ],
 "metadata": {
  "kernelspec": {
   "display_name": "myvenv",
   "language": "python",
   "name": "python3"
  },
  "language_info": {
   "codemirror_mode": {
    "name": "ipython",
    "version": 3
   },
   "file_extension": ".py",
   "mimetype": "text/x-python",
   "name": "python",
   "nbconvert_exporter": "python",
   "pygments_lexer": "ipython3",
   "version": "3.13.5"
  }
 },
 "nbformat": 4,
 "nbformat_minor": 5
}
