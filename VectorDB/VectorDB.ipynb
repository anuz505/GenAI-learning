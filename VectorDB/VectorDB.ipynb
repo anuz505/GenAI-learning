{
 "cells": [
  {
   "cell_type": "markdown",
   "id": "9d13d254",
   "metadata": {},
   "source": [
    "## Loading My Capstone PDF"
   ]
  },
  {
   "cell_type": "code",
   "execution_count": 7,
   "id": "98235023",
   "metadata": {},
   "outputs": [],
   "source": [
    "from langchain_community.document_loaders import PyPDFLoader\n",
    "loader = PyPDFLoader(\"GROUP2_ANUJ_BHANDARI_0348445_CP1.pdf\")\n",
    "documents = loader.load()\n"
   ]
  },
  {
   "cell_type": "markdown",
   "id": "04d3e8dc",
   "metadata": {},
   "source": [
    "## Document Splitter"
   ]
  },
  {
   "cell_type": "code",
   "execution_count": 8,
   "id": "e273abcb",
   "metadata": {},
   "outputs": [],
   "source": [
    "from langchain_text_splitters import CharacterTextSplitter\n",
    "splitter = CharacterTextSplitter(chunk_size = 200, chunk_overlap = 30)\n",
    "docs = splitter.split_documents(documents)\n"
   ]
  },
  {
   "cell_type": "code",
   "execution_count": 10,
   "id": "aa179d4c",
   "metadata": {},
   "outputs": [
    {
     "data": {
      "text/plain": [
       "62"
      ]
     },
     "execution_count": 10,
     "metadata": {},
     "output_type": "execute_result"
    }
   ],
   "source": [
    "len(docs)"
   ]
  },
  {
   "cell_type": "markdown",
   "id": "c58df0be",
   "metadata": {},
   "source": [
    "## Ollama Embeddings"
   ]
  },
  {
   "cell_type": "code",
   "execution_count": null,
   "id": "da87fefc",
   "metadata": {},
   "outputs": [],
   "source": [
    "from langchain_community.embeddings import OllamaEmbeddings\n",
    "embeddings = OllamaEmbeddings(model=\"gemma2:2b\")\n",
    "embedded_docs = embeddings.embed_documents(docs)"
   ]
  },
  {
   "cell_type": "code",
   "execution_count": null,
   "id": "d2dcd2e4",
   "metadata": {},
   "outputs": [],
   "source": [
    "from langchain_community.vectorstores import FAISS\n",
    "db = FAISS.from_documents(docs,embeddings)"
   ]
  },
  {
   "cell_type": "markdown",
   "id": "329e12d6",
   "metadata": {},
   "source": [
    "## Querying the VectorDB"
   ]
  },
  {
   "cell_type": "code",
   "execution_count": 17,
   "id": "ebd63aae",
   "metadata": {},
   "outputs": [
    {
     "data": {
      "text/plain": [
       "[Document(id='85adad8d-d652-4476-84c9-75eb4caf4923', metadata={'producer': 'xdvipdfmx (20240305)', 'creator': 'LaTeX with hyperref', 'creationdate': '2025-07-24T15:08:47+00:00', 'source': 'GROUP2_ANUJ_BHANDARI_0348445_CP1.pdf', 'total_pages': 62, 'page': 10, 'page_label': '1'}, page_content='Chapter 1\\nIntroduction\\n1.1 Executive Summary\\nRapid urbanization and city growth have caused a significant increase in worldwide waste.\\nBy 2050, this production is anticipated to increase by 70%, per Kaza et al. (2018). W aste\\nmanagement techniques in the past had certain issues that made it challenging for both\\npeople and communities to participate and recycle properly . In order to confront this\\nmultifaceted challenge, the application presents a novel approach and tackles the issue\\nusing crowdsourcing, gamification, and artificial intelligence as features within a single\\nmobile application.\\nBinHero is a mobile application that is powered by AI technologies like object detection\\nand motion tracking. These AI technologies help validate trash disposal actions in real-\\ntime, while also promoting accurate sorting behavior with fast feedback. Point systems,\\nleaderboards, PvP challenges, and team-based tasks, such as gamified elements, further\\nenhance user engagement and develop long-term habits. The application aims to turn\\na garbage disposal into a community-driven activity by incorporating those AI features\\nand enabling users to map and verify bin sites through crowdsourcing. This boosts\\naccessibility and aids municipal planning efforts. The app was built using React Native,\\nwith backend support from Node.js and MongoDB. Likewise, YOLO11 and DeepSOR T\\nalgorithms were applied to detect objects and track their motion.\\nA thorough risk assessment and development roadmap guarantee that challenges\\nfrom AI accuracy and hardware compatibility to user retention are addressed proactively\\nthrough continual model refinement, strategic outreach, and inclusive design. Likewise,\\nfuture improvements will be incorporated, like augmented reality integration, federated\\nlearning, multilingual support, and collaboration with government and environmental\\ngroups.\\nIn conclusion, the project illustrates some of the ways technology and behavioral\\nscience may work together to provide environmental benefits, encourage community in-\\nvolvement, and build a culture of sustainability .\\n1'),\n",
       " Document(id='a9715335-293e-4332-babe-b67f8c816528', metadata={'producer': 'xdvipdfmx (20240305)', 'creator': 'LaTeX with hyperref', 'creationdate': '2025-07-24T15:08:47+00:00', 'source': 'GROUP2_ANUJ_BHANDARI_0348445_CP1.pdf', 'total_pages': 62, 'page': 11, 'page_label': '2'}, page_content='Anuj Bhandari: Capstone Project I\\n1.2 Project Objectives\\nThe mobile application aims to revolutionize waste management methods by powering\\nthem with AI and gamification. Some of the primary objectives are as follows:\\n• AI for Real-Time W aste Classification and V alidation: Make use of AI to track both\\nobjects and their movements to confirm proper waste disposal and help address\\nmistakes in sorting and waste added to landfills.\\n• Promote Community Participation in Sustainability Efforts: Collaboration with\\nenvironmentally conscious communities by offering team-based challenges, missions,\\nand PvP (Player vs Player) arenas.\\n• Scalable and Engaging Mobile Platform: The Project aims to provide a robust\\nbackend that can handle a high load of traﬀic and will perform in harsh conditions.\\n• Data Driven: Locations of dustbins from crowdsourcing can be beneficial for the\\nlocal government to plan and increase the eﬀiciency of garbage collection.\\n1.3 Project Description\\nThe project utilizes AI and user-driven engagement and encourages long-lasting envi-\\nronmental change, emerging as an effective solution to the ongoing global problem of\\ninappropriate garbage disposal. Key Components and F eatures:\\n• Gamification Mechanics:\\n– Garbage Disposal\\n– Daily and weekly missions.\\n– PvP contests.\\n– T eam challenges.\\n– Leaderboards.\\n– Badges and achievements.\\n• AI-powered Object detection and Motion tracking:\\n– Custom-trained YOLO11 model to classify wastes as recyclable, biodegrad-\\nable, or general.\\n• Crowdsourced Bin Mapping\\n– Users pin the location of trash bins to a live map\\n– Help the local government collect garbage eﬀiciently and promote public par-\\nticipation.\\n2'),\n",
       " Document(id='fa728b49-9278-44bb-be24-be5cbf8df5d1', metadata={'producer': 'xdvipdfmx (20240305)', 'creator': 'LaTeX with hyperref', 'creationdate': '2025-07-24T15:08:47+00:00', 'source': 'GROUP2_ANUJ_BHANDARI_0348445_CP1.pdf', 'total_pages': 62, 'page': 0, 'page_label': 'i'}, page_content='BinHero: An AI-Driven Smart W aste Disposal\\nMobile App with Object Detection Motion T racking\\nA report submitted in partial fulfilment of the requirements\\nfor the award of the degree of\\nBachelor\\nof\\nComputer Science (Hons)\\nby\\nANUJ BHANDARI\\n0358445\\nCOMPUTER SCIENCE\\nINSTITUTE OF INTERNA TIONAL MANAGEMENT SCIENCE (IIMS)\\nAFFILIA TED TO T A YLOR’S UNIVERSITY, MALA YSIA\\nKathmandu, Nepal\\nApril, 2025'),\n",
       " Document(id='7f0d81f7-7d8c-477d-bfcf-79ec727bc16d', metadata={'producer': 'xdvipdfmx (20240305)', 'creator': 'LaTeX with hyperref', 'creationdate': '2025-07-24T15:08:47+00:00', 'source': 'GROUP2_ANUJ_BHANDARI_0348445_CP1.pdf', 'total_pages': 62, 'page': 12, 'page_label': '3'}, page_content='Anuj Bhandari: Capstone Project I\\n• Backend Infrastructure\\n– A minimal and flexible Node.js framework for server-side operations.\\n– MongoDB is a NoSQL database to manage user profiles, bin data, and other\\ninteractions.\\n– AI models built using the Pytorch framework with cloud-based inference.\\n• Platform and Accessibility\\n– Built with React Native with usability and performance in mind, and opti-\\nmized for contemporary devices.\\n1.4 Project Scope\\nThe functional boundaries, features that the team intends to create and execute, are\\ndescribed in the application’s project scope. In order to guarantee clarity of purpose and\\ncompatibility with technical requirements. Here, both projects’ inclusions and exclusions\\nare described.\\nInclusion:\\n1. Mobile app development: Build a full-fledged mobile application from React Native\\nwith robust backend support that can provide users with seamless accessibility and\\nfunctionality .\\n2. Gamification Rewards Systems: T o engage users better, tools like structured points,\\nrankings, battles between players, and challenges in teams are created and placed\\nin the applications.\\n3. Crowd-source: It helps residents contribute to their community and plan the use\\nof municipal resources by letting them update and check bin locations on the app.\\nExclusion\\n1. Integration with Government W aste Collection Systems: At present, there has been\\nno oﬀicial integration with the municipal garbage collection or the government,\\ndespite the fact that the system might support data that is beneficial to municipal\\norganizations.\\n2. Hardware Device: The project also does not entail the creation of physical hardware,\\nsuch as sensor-based disposal devices.\\n3. Offline F unctionality: F eatures such as real-time data sync, multiplayer interactions\\nthese all require internet connectivity , so the app does not have any offline features.\\n3')]"
      ]
     },
     "execution_count": 17,
     "metadata": {},
     "output_type": "execute_result"
    }
   ],
   "source": [
    "query = \"Which YOLO is used in BinHero ?\"\n",
    "docs = db.similarity_search(query)\n",
    "docs"
   ]
  },
  {
   "cell_type": "code",
   "execution_count": 27,
   "id": "fb874d0e",
   "metadata": {},
   "outputs": [
    {
     "data": {
      "text/plain": [
       "'Chapter 1\\nIntroduction\\n1.1 Executive Summary\\nRapid urbanization and city growth have caused a significant increase in worldwide waste.\\nBy 2050, this production is anticipated to increase by 70%, per Kaza et al. (2018). W aste\\nmanagement techniques in the past had certain issues that made it challenging for both\\npeople and communities to participate and recycle properly . In order to confront this\\nmultifaceted challenge, the application presents a novel approach and tackles the issue\\nusing crowdsourcing, gamification, and artificial intelligence as features within a single\\nmobile application.\\nBinHero is a mobile application that is powered by AI technologies like object detection\\nand motion tracking. These AI technologies help validate trash disposal actions in real-\\ntime, while also promoting accurate sorting behavior with fast feedback. Point systems,\\nleaderboards, PvP challenges, and team-based tasks, such as gamified elements, further\\nenhance user engagement and develop long-term habits. The application aims to turn\\na garbage disposal into a community-driven activity by incorporating those AI features\\nand enabling users to map and verify bin sites through crowdsourcing. This boosts\\naccessibility and aids municipal planning efforts. The app was built using React Native,\\nwith backend support from Node.js and MongoDB. Likewise, YOLO11 and DeepSOR T\\nalgorithms were applied to detect objects and track their motion.\\nA thorough risk assessment and development roadmap guarantee that challenges\\nfrom AI accuracy and hardware compatibility to user retention are addressed proactively\\nthrough continual model refinement, strategic outreach, and inclusive design. Likewise,\\nfuture improvements will be incorporated, like augmented reality integration, federated\\nlearning, multilingual support, and collaboration with government and environmental\\ngroups.\\nIn conclusion, the project illustrates some of the ways technology and behavioral\\nscience may work together to provide environmental benefits, encourage community in-\\nvolvement, and build a culture of sustainability .\\n1'"
      ]
     },
     "execution_count": 27,
     "metadata": {},
     "output_type": "execute_result"
    }
   ],
   "source": [
    "# can also search with embeddings\n",
    "query_embed = embeddings.embed_query(query)\n",
    "results = db.similarity_search_by_vector(query_embed)\n",
    "results[0].page_content"
   ]
  },
  {
   "cell_type": "code",
   "execution_count": 18,
   "id": "51a1c5f9",
   "metadata": {},
   "outputs": [],
   "source": [
    "retrievers = db.as_retriever()\n",
    "result = retrievers.invoke(query)"
   ]
  },
  {
   "cell_type": "code",
   "execution_count": 28,
   "id": "2204182f",
   "metadata": {},
   "outputs": [
    {
     "name": "stdout",
     "output_type": "stream",
     "text": [
      "Chapter 1\n",
      "Introduction\n",
      "1.1 Executive Summary\n",
      "Rapid urbanization and city growth have caused a significant increase in worldwide waste.\n",
      "By 2050, this production is anticipated to increase by 70%, per Kaza et al. (2018). W aste\n",
      "management techniques in the past had certain issues that made it challenging for both\n",
      "people and communities to participate and recycle properly . In order to confront this\n",
      "multifaceted challenge, the application presents a novel approach and tackles the issue\n",
      "using crowdsourcing, gamification, and artificial intelligence as features within a single\n",
      "mobile application.\n",
      "BinHero is a mobile application that is powered by AI technologies like object detection\n",
      "and motion tracking. These AI technologies help validate trash disposal actions in real-\n",
      "time, while also promoting accurate sorting behavior with fast feedback. Point systems,\n",
      "leaderboards, PvP challenges, and team-based tasks, such as gamified elements, further\n",
      "enhance user engagement and develop long-term habits. The application aims to turn\n",
      "a garbage disposal into a community-driven activity by incorporating those AI features\n",
      "and enabling users to map and verify bin sites through crowdsourcing. This boosts\n",
      "accessibility and aids municipal planning efforts. The app was built using React Native,\n",
      "with backend support from Node.js and MongoDB. Likewise, YOLO11 and DeepSOR T\n",
      "algorithms were applied to detect objects and track their motion.\n",
      "A thorough risk assessment and development roadmap guarantee that challenges\n",
      "from AI accuracy and hardware compatibility to user retention are addressed proactively\n",
      "through continual model refinement, strategic outreach, and inclusive design. Likewise,\n",
      "future improvements will be incorporated, like augmented reality integration, federated\n",
      "learning, multilingual support, and collaboration with government and environmental\n",
      "groups.\n",
      "In conclusion, the project illustrates some of the ways technology and behavioral\n",
      "science may work together to provide environmental benefits, encourage community in-\n",
      "volvement, and build a culture of sustainability .\n",
      "1\n"
     ]
    }
   ],
   "source": [
    "print(result[0].page_content)"
   ]
  },
  {
   "cell_type": "markdown",
   "id": "6ed2ab95",
   "metadata": {},
   "source": [
    "# Similarity Search with Scores"
   ]
  },
  {
   "cell_type": "code",
   "execution_count": 22,
   "id": "cd4b8816",
   "metadata": {},
   "outputs": [
    {
     "name": "stdout",
     "output_type": "stream",
     "text": [
      "Score: 8096.2431640625, Content: Chapter 1\n",
      "Introduction\n",
      "1.1 Executive Summary\n",
      "Rapid urbanization and city growth have caused a significant increase in worldwide waste.\n",
      "By 2050, this production is anticipated to increase by 70%, per Kaza et al. (2018). W aste\n",
      "management techniques in the past had certain issues that made it challenging for both\n",
      "people and communities to participate and recycle properly . In order to confront this\n",
      "multifaceted challenge, the application presents a novel approach and tackles the issue\n",
      "using crowdsourcing, gamification, and artificial intelligence as features within a single\n",
      "mobile application.\n",
      "BinHero is a mobile application that is powered by AI technologies like object detection\n",
      "and motion tracking. These AI technologies help validate trash disposal actions in real-\n",
      "time, while also promoting accurate sorting behavior with fast feedback. Point systems,\n",
      "leaderboards, PvP challenges, and team-based tasks, such as gamified elements, further\n",
      "enhance user engagement and develop long-term habits. The application aims to turn\n",
      "a garbage disposal into a community-driven activity by incorporating those AI features\n",
      "and enabling users to map and verify bin sites through crowdsourcing. This boosts\n",
      "accessibility and aids municipal planning efforts. The app was built using React Native,\n",
      "with backend support from Node.js and MongoDB. Likewise, YOLO11 and DeepSOR T\n",
      "algorithms were applied to detect objects and track their motion.\n",
      "A thorough risk assessment and development roadmap guarantee that challenges\n",
      "from AI accuracy and hardware compatibility to user retention are addressed proactively\n",
      "through continual model refinement, strategic outreach, and inclusive design. Likewise,\n",
      "future improvements will be incorporated, like augmented reality integration, federated\n",
      "learning, multilingual support, and collaboration with government and environmental\n",
      "groups.\n",
      "In conclusion, the project illustrates some of the ways technology and behavioral\n",
      "science may work together to provide environmental benefits, encourage community in-\n",
      "volvement, and build a culture of sustainability .\n",
      "1\n",
      "Score: 8257.322265625, Content: Anuj Bhandari: Capstone Project I\n",
      "1.2 Project Objectives\n",
      "The mobile application aims to revolutionize waste management methods by powering\n",
      "them with AI and gamification. Some of the primary objectives are as follows:\n",
      "• AI for Real-Time W aste Classification and V alidation: Make use of AI to track both\n",
      "objects and their movements to confirm proper waste disposal and help address\n",
      "mistakes in sorting and waste added to landfills.\n",
      "• Promote Community Participation in Sustainability Efforts: Collaboration with\n",
      "environmentally conscious communities by offering team-based challenges, missions,\n",
      "and PvP (Player vs Player) arenas.\n",
      "• Scalable and Engaging Mobile Platform: The Project aims to provide a robust\n",
      "backend that can handle a high load of traﬀic and will perform in harsh conditions.\n",
      "• Data Driven: Locations of dustbins from crowdsourcing can be beneficial for the\n",
      "local government to plan and increase the eﬀiciency of garbage collection.\n",
      "1.3 Project Description\n",
      "The project utilizes AI and user-driven engagement and encourages long-lasting envi-\n",
      "ronmental change, emerging as an effective solution to the ongoing global problem of\n",
      "inappropriate garbage disposal. Key Components and F eatures:\n",
      "• Gamification Mechanics:\n",
      "– Garbage Disposal\n",
      "– Daily and weekly missions.\n",
      "– PvP contests.\n",
      "– T eam challenges.\n",
      "– Leaderboards.\n",
      "– Badges and achievements.\n",
      "• AI-powered Object detection and Motion tracking:\n",
      "– Custom-trained YOLO11 model to classify wastes as recyclable, biodegrad-\n",
      "able, or general.\n",
      "• Crowdsourced Bin Mapping\n",
      "– Users pin the location of trash bins to a live map\n",
      "– Help the local government collect garbage eﬀiciently and promote public par-\n",
      "ticipation.\n",
      "2\n",
      "Score: 8723.4609375, Content: BinHero: An AI-Driven Smart W aste Disposal\n",
      "Mobile App with Object Detection Motion T racking\n",
      "A report submitted in partial fulfilment of the requirements\n",
      "for the award of the degree of\n",
      "Bachelor\n",
      "of\n",
      "Computer Science (Hons)\n",
      "by\n",
      "ANUJ BHANDARI\n",
      "0358445\n",
      "COMPUTER SCIENCE\n",
      "INSTITUTE OF INTERNA TIONAL MANAGEMENT SCIENCE (IIMS)\n",
      "AFFILIA TED TO T A YLOR’S UNIVERSITY, MALA YSIA\n",
      "Kathmandu, Nepal\n",
      "April, 2025\n",
      "Score: 9643.109375, Content: Anuj Bhandari: Capstone Project I\n",
      "• Backend Infrastructure\n",
      "– A minimal and flexible Node.js framework for server-side operations.\n",
      "– MongoDB is a NoSQL database to manage user profiles, bin data, and other\n",
      "interactions.\n",
      "– AI models built using the Pytorch framework with cloud-based inference.\n",
      "• Platform and Accessibility\n",
      "– Built with React Native with usability and performance in mind, and opti-\n",
      "mized for contemporary devices.\n",
      "1.4 Project Scope\n",
      "The functional boundaries, features that the team intends to create and execute, are\n",
      "described in the application’s project scope. In order to guarantee clarity of purpose and\n",
      "compatibility with technical requirements. Here, both projects’ inclusions and exclusions\n",
      "are described.\n",
      "Inclusion:\n",
      "1. Mobile app development: Build a full-fledged mobile application from React Native\n",
      "with robust backend support that can provide users with seamless accessibility and\n",
      "functionality .\n",
      "2. Gamification Rewards Systems: T o engage users better, tools like structured points,\n",
      "rankings, battles between players, and challenges in teams are created and placed\n",
      "in the applications.\n",
      "3. Crowd-source: It helps residents contribute to their community and plan the use\n",
      "of municipal resources by letting them update and check bin locations on the app.\n",
      "Exclusion\n",
      "1. Integration with Government W aste Collection Systems: At present, there has been\n",
      "no oﬀicial integration with the municipal garbage collection or the government,\n",
      "despite the fact that the system might support data that is beneficial to municipal\n",
      "organizations.\n",
      "2. Hardware Device: The project also does not entail the creation of physical hardware,\n",
      "such as sensor-based disposal devices.\n",
      "3. Offline F unctionality: F eatures such as real-time data sync, multiplayer interactions\n",
      "these all require internet connectivity , so the app does not have any offline features.\n",
      "3\n"
     ]
    }
   ],
   "source": [
    "docs_and_scores = db.similarity_search_with_score(query)\n",
    "for doc, score in docs_and_scores:\n",
    "    print(f\"Score: {score}, Content: {doc.page_content}\")"
   ]
  },
  {
   "cell_type": "code",
   "execution_count": 24,
   "id": "aee8232a",
   "metadata": {},
   "outputs": [],
   "source": [
    "db.save_local(\"mycpDB\")"
   ]
  },
  {
   "cell_type": "code",
   "execution_count": 25,
   "id": "73247faa",
   "metadata": {},
   "outputs": [
    {
     "data": {
      "text/plain": [
       "<langchain_community.vectorstores.faiss.FAISS at 0x2a6b31920d0>"
      ]
     },
     "execution_count": 25,
     "metadata": {},
     "output_type": "execute_result"
    }
   ],
   "source": [
    "db.load_local(\"mycpDB\",embeddings,allow_dangerous_deserialization=True)"
   ]
  },
  {
   "cell_type": "code",
   "execution_count": 29,
   "id": "659f435d",
   "metadata": {},
   "outputs": [
    {
     "name": "stdout",
     "output_type": "stream",
     "text": [
      "Chapter 1\n",
      "Introduction\n",
      "1.1 Executive Summary\n",
      "Rapid urbanization and city growth have caused a significant increase in worldwide waste.\n",
      "By 2050, this production is anticipated to increase by 70%, per Kaza et al. (2018). W aste\n",
      "management techniques in the past had certain issues that made it challenging for both\n",
      "people and communities to participate and recycle properly . In order to confront this\n",
      "multifaceted challenge, the application presents a novel approach and tackles the issue\n",
      "using crowdsourcing, gamification, and artificial intelligence as features within a single\n",
      "mobile application.\n",
      "BinHero is a mobile application that is powered by AI technologies like object detection\n",
      "and motion tracking. These AI technologies help validate trash disposal actions in real-\n",
      "time, while also promoting accurate sorting behavior with fast feedback. Point systems,\n",
      "leaderboards, PvP challenges, and team-based tasks, such as gamified elements, further\n",
      "enhance user engagement and develop long-term habits. The application aims to turn\n",
      "a garbage disposal into a community-driven activity by incorporating those AI features\n",
      "and enabling users to map and verify bin sites through crowdsourcing. This boosts\n",
      "accessibility and aids municipal planning efforts. The app was built using React Native,\n",
      "with backend support from Node.js and MongoDB. Likewise, YOLO11 and DeepSOR T\n",
      "algorithms were applied to detect objects and track their motion.\n",
      "A thorough risk assessment and development roadmap guarantee that challenges\n",
      "from AI accuracy and hardware compatibility to user retention are addressed proactively\n",
      "through continual model refinement, strategic outreach, and inclusive design. Likewise,\n",
      "future improvements will be incorporated, like augmented reality integration, federated\n",
      "learning, multilingual support, and collaboration with government and environmental\n",
      "groups.\n",
      "In conclusion, the project illustrates some of the ways technology and behavioral\n",
      "science may work together to provide environmental benefits, encourage community in-\n",
      "volvement, and build a culture of sustainability .\n",
      "1\n"
     ]
    }
   ],
   "source": [
    "res = db.similarity_search(query)\n",
    "print(res[0].page_content)"
   ]
  },
  {
   "cell_type": "code",
   "execution_count": null,
   "id": "e926ea5f",
   "metadata": {},
   "outputs": [],
   "source": []
  }
 ],
 "metadata": {
  "kernelspec": {
   "display_name": "myvenv",
   "language": "python",
   "name": "python3"
  },
  "language_info": {
   "codemirror_mode": {
    "name": "ipython",
    "version": 3
   },
   "file_extension": ".py",
   "mimetype": "text/x-python",
   "name": "python",
   "nbconvert_exporter": "python",
   "pygments_lexer": "ipython3",
   "version": "3.13.5"
  }
 },
 "nbformat": 4,
 "nbformat_minor": 5
}
